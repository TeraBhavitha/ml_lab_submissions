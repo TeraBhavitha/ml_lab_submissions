{
  "nbformat": 4,
  "nbformat_minor": 0,
  "metadata": {
    "colab": {
      "provenance": []
    },
    "kernelspec": {
      "name": "python3",
      "display_name": "Python 3"
    },
    "language_info": {
      "name": "python"
    }
  },
  "cells": [
    {
      "cell_type": "code",
      "execution_count": 1,
      "metadata": {
        "colab": {
          "base_uri": "https://localhost:8080/",
          "height": 73
        },
        "id": "Yv_a_nUih9Ov",
        "outputId": "b26c830b-320e-422c-f574-7a8dc5772e62"
      },
      "outputs": [
        {
          "output_type": "display_data",
          "data": {
            "text/plain": [
              "<IPython.core.display.HTML object>"
            ],
            "text/html": [
              "\n",
              "     <input type=\"file\" id=\"files-4c63164d-35b8-4033-b1a3-deccb928a6c9\" name=\"files[]\" multiple disabled\n",
              "        style=\"border:none\" />\n",
              "     <output id=\"result-4c63164d-35b8-4033-b1a3-deccb928a6c9\">\n",
              "      Upload widget is only available when the cell has been executed in the\n",
              "      current browser session. Please rerun this cell to enable.\n",
              "      </output>\n",
              "      <script>// Copyright 2017 Google LLC\n",
              "//\n",
              "// Licensed under the Apache License, Version 2.0 (the \"License\");\n",
              "// you may not use this file except in compliance with the License.\n",
              "// You may obtain a copy of the License at\n",
              "//\n",
              "//      http://www.apache.org/licenses/LICENSE-2.0\n",
              "//\n",
              "// Unless required by applicable law or agreed to in writing, software\n",
              "// distributed under the License is distributed on an \"AS IS\" BASIS,\n",
              "// WITHOUT WARRANTIES OR CONDITIONS OF ANY KIND, either express or implied.\n",
              "// See the License for the specific language governing permissions and\n",
              "// limitations under the License.\n",
              "\n",
              "/**\n",
              " * @fileoverview Helpers for google.colab Python module.\n",
              " */\n",
              "(function(scope) {\n",
              "function span(text, styleAttributes = {}) {\n",
              "  const element = document.createElement('span');\n",
              "  element.textContent = text;\n",
              "  for (const key of Object.keys(styleAttributes)) {\n",
              "    element.style[key] = styleAttributes[key];\n",
              "  }\n",
              "  return element;\n",
              "}\n",
              "\n",
              "// Max number of bytes which will be uploaded at a time.\n",
              "const MAX_PAYLOAD_SIZE = 100 * 1024;\n",
              "\n",
              "function _uploadFiles(inputId, outputId) {\n",
              "  const steps = uploadFilesStep(inputId, outputId);\n",
              "  const outputElement = document.getElementById(outputId);\n",
              "  // Cache steps on the outputElement to make it available for the next call\n",
              "  // to uploadFilesContinue from Python.\n",
              "  outputElement.steps = steps;\n",
              "\n",
              "  return _uploadFilesContinue(outputId);\n",
              "}\n",
              "\n",
              "// This is roughly an async generator (not supported in the browser yet),\n",
              "// where there are multiple asynchronous steps and the Python side is going\n",
              "// to poll for completion of each step.\n",
              "// This uses a Promise to block the python side on completion of each step,\n",
              "// then passes the result of the previous step as the input to the next step.\n",
              "function _uploadFilesContinue(outputId) {\n",
              "  const outputElement = document.getElementById(outputId);\n",
              "  const steps = outputElement.steps;\n",
              "\n",
              "  const next = steps.next(outputElement.lastPromiseValue);\n",
              "  return Promise.resolve(next.value.promise).then((value) => {\n",
              "    // Cache the last promise value to make it available to the next\n",
              "    // step of the generator.\n",
              "    outputElement.lastPromiseValue = value;\n",
              "    return next.value.response;\n",
              "  });\n",
              "}\n",
              "\n",
              "/**\n",
              " * Generator function which is called between each async step of the upload\n",
              " * process.\n",
              " * @param {string} inputId Element ID of the input file picker element.\n",
              " * @param {string} outputId Element ID of the output display.\n",
              " * @return {!Iterable<!Object>} Iterable of next steps.\n",
              " */\n",
              "function* uploadFilesStep(inputId, outputId) {\n",
              "  const inputElement = document.getElementById(inputId);\n",
              "  inputElement.disabled = false;\n",
              "\n",
              "  const outputElement = document.getElementById(outputId);\n",
              "  outputElement.innerHTML = '';\n",
              "\n",
              "  const pickedPromise = new Promise((resolve) => {\n",
              "    inputElement.addEventListener('change', (e) => {\n",
              "      resolve(e.target.files);\n",
              "    });\n",
              "  });\n",
              "\n",
              "  const cancel = document.createElement('button');\n",
              "  inputElement.parentElement.appendChild(cancel);\n",
              "  cancel.textContent = 'Cancel upload';\n",
              "  const cancelPromise = new Promise((resolve) => {\n",
              "    cancel.onclick = () => {\n",
              "      resolve(null);\n",
              "    };\n",
              "  });\n",
              "\n",
              "  // Wait for the user to pick the files.\n",
              "  const files = yield {\n",
              "    promise: Promise.race([pickedPromise, cancelPromise]),\n",
              "    response: {\n",
              "      action: 'starting',\n",
              "    }\n",
              "  };\n",
              "\n",
              "  cancel.remove();\n",
              "\n",
              "  // Disable the input element since further picks are not allowed.\n",
              "  inputElement.disabled = true;\n",
              "\n",
              "  if (!files) {\n",
              "    return {\n",
              "      response: {\n",
              "        action: 'complete',\n",
              "      }\n",
              "    };\n",
              "  }\n",
              "\n",
              "  for (const file of files) {\n",
              "    const li = document.createElement('li');\n",
              "    li.append(span(file.name, {fontWeight: 'bold'}));\n",
              "    li.append(span(\n",
              "        `(${file.type || 'n/a'}) - ${file.size} bytes, ` +\n",
              "        `last modified: ${\n",
              "            file.lastModifiedDate ? file.lastModifiedDate.toLocaleDateString() :\n",
              "                                    'n/a'} - `));\n",
              "    const percent = span('0% done');\n",
              "    li.appendChild(percent);\n",
              "\n",
              "    outputElement.appendChild(li);\n",
              "\n",
              "    const fileDataPromise = new Promise((resolve) => {\n",
              "      const reader = new FileReader();\n",
              "      reader.onload = (e) => {\n",
              "        resolve(e.target.result);\n",
              "      };\n",
              "      reader.readAsArrayBuffer(file);\n",
              "    });\n",
              "    // Wait for the data to be ready.\n",
              "    let fileData = yield {\n",
              "      promise: fileDataPromise,\n",
              "      response: {\n",
              "        action: 'continue',\n",
              "      }\n",
              "    };\n",
              "\n",
              "    // Use a chunked sending to avoid message size limits. See b/62115660.\n",
              "    let position = 0;\n",
              "    do {\n",
              "      const length = Math.min(fileData.byteLength - position, MAX_PAYLOAD_SIZE);\n",
              "      const chunk = new Uint8Array(fileData, position, length);\n",
              "      position += length;\n",
              "\n",
              "      const base64 = btoa(String.fromCharCode.apply(null, chunk));\n",
              "      yield {\n",
              "        response: {\n",
              "          action: 'append',\n",
              "          file: file.name,\n",
              "          data: base64,\n",
              "        },\n",
              "      };\n",
              "\n",
              "      let percentDone = fileData.byteLength === 0 ?\n",
              "          100 :\n",
              "          Math.round((position / fileData.byteLength) * 100);\n",
              "      percent.textContent = `${percentDone}% done`;\n",
              "\n",
              "    } while (position < fileData.byteLength);\n",
              "  }\n",
              "\n",
              "  // All done.\n",
              "  yield {\n",
              "    response: {\n",
              "      action: 'complete',\n",
              "    }\n",
              "  };\n",
              "}\n",
              "\n",
              "scope.google = scope.google || {};\n",
              "scope.google.colab = scope.google.colab || {};\n",
              "scope.google.colab._files = {\n",
              "  _uploadFiles,\n",
              "  _uploadFilesContinue,\n",
              "};\n",
              "})(self);\n",
              "</script> "
            ]
          },
          "metadata": {}
        },
        {
          "output_type": "stream",
          "name": "stdout",
          "text": [
            "Saving fake_and_real_news.csv to fake_and_real_news.csv\n"
          ]
        }
      ],
      "source": [
        "from google.colab import files\n",
        "uploaded=files.upload()"
      ]
    },
    {
      "cell_type": "code",
      "source": [
        "import numpy as np\n",
        "\n",
        "# --- A1a: Summation Unit ---\n",
        "def summation(inputs, weights, bias):\n",
        "    return np.dot(inputs, weights) + bias\n",
        "\n",
        "# --- A1b: Activation Functions ---\n",
        "def step(x): return 1 if x >= 0 else 0\n",
        "\n",
        "def bipolar_step(x): return 1 if x >= 0 else -1\n",
        "\n",
        "def sigmoid(x): return 1 / (1 + np.exp(-x))\n",
        "\n",
        "def tanh(x): return np.tanh(x)\n",
        "\n",
        "def relu(x): return np.maximum(0, x)\n",
        "\n",
        "def leaky_relu(x, alpha=0.01): return x if x > 0 else alpha * x\n",
        "\n",
        "# --- A1c: Comparator Unit ---\n",
        "def compute_error(y_true, y_pred): return y_true - y_pred\n",
        "inputs = np.array([1, 0])\n",
        "weights = np.array([0.5, -0.7])\n",
        "bias = 0.2\n",
        "output = summation(inputs, weights, bias)\n",
        "print(\"Summation Output:\", output)\n",
        "print(\"Step Activation:\", step(output))\n",
        "print(\"Bipolar Step Activation:\", bipolar_step(output))\n",
        "print(\"Sigmoid Activation:\", sigmoid(output))\n",
        "print(\"TanH Activation:\", tanh(output))\n",
        "print(\"ReLU Activation:\", relu(output))\n",
        "print(\"Leaky ReLU Activation:\", leaky_relu(output))\n",
        "print(\"Error:\", compute_error(1, step(output)))\n",
        "\n"
      ],
      "metadata": {
        "colab": {
          "base_uri": "https://localhost:8080/"
        },
        "id": "5xTb4ES7iGyZ",
        "outputId": "e851b74d-9fd0-4696-c52c-84a6ca7dd3c7"
      },
      "execution_count": 2,
      "outputs": [
        {
          "output_type": "stream",
          "name": "stdout",
          "text": [
            "Summation Output: 0.7\n",
            "Step Activation: 1\n",
            "Bipolar Step Activation: 1\n",
            "Sigmoid Activation: 0.6681877721681662\n",
            "TanH Activation: 0.6043677771171634\n",
            "ReLU Activation: 0.7\n",
            "Leaky ReLU Activation: 0.7\n",
            "Error: 0\n"
          ]
        }
      ]
    },
    {
      "cell_type": "code",
      "source": [
        "def train_perceptron_AND(activation_fn, epochs=1000, lr=0.05, tolerance=0.002):\n",
        "    X = np.array([[0, 0], [0, 1], [1, 0], [1, 1]])\n",
        "    y = np.array([0, 0, 0, 1])\n",
        "    weights = np.array([0.2, -0.75])\n",
        "    bias = 10\n",
        "    epoch_errors = []\n",
        "\n",
        "    for epoch in range(epochs):\n",
        "        total_error = 0\n",
        "        for xi, target in zip(X, y):\n",
        "            linear_output = summation(xi, weights, bias)\n",
        "            pred = activation_fn(linear_output)\n",
        "            error = target - pred\n",
        "            weights += lr * error * xi\n",
        "            bias += lr * error\n",
        "            total_error += error**2\n",
        "        epoch_errors.append(total_error)\n",
        "        if total_error <= tolerance:\n",
        "            break\n",
        "    return weights, bias, epoch + 1, epoch_errors\n",
        "weights, bias, epochs, errors = train_perceptron_AND(step)\n",
        "print(\"Final Weights:\", weights)\n",
        "print(\"Final Bias:\", bias)\n",
        "print(\"Epochs for convergence:\", epochs)\n",
        "print(\"Final Error:\", errors[-1])\n"
      ],
      "metadata": {
        "colab": {
          "base_uri": "https://localhost:8080/"
        },
        "id": "hARViFJhiS06",
        "outputId": "a8fbc9a8-1aea-4c3f-c7b0-1e21a22ec4af"
      },
      "execution_count": 3,
      "outputs": [
        {
          "output_type": "stream",
          "name": "stdout",
          "text": [
            "Final Weights: [0.1  0.05]\n",
            "Final Bias: -0.10000000000000765\n",
            "Epochs for convergence: 130\n",
            "Final Error: 0\n"
          ]
        }
      ]
    },
    {
      "cell_type": "code",
      "source": [
        "def train_with_activations():\n",
        "    results = {}\n",
        "    for name, fn in {'Step': step, 'Bipolar': bipolar_step, 'Sigmoid': sigmoid, 'ReLU': relu}.items():\n",
        "        _, _, epochs, _ = train_perceptron_AND(fn)\n",
        "        results[name] = epochs\n",
        "    return results\n",
        "\n",
        "result = train_with_activations()\n",
        "print(\"Epochs taken to converge for each activation function:\")\n",
        "for name, epochs in result.items():\n",
        "   print(f\"{name}: {epochs} epochs\")\n"
      ],
      "metadata": {
        "colab": {
          "base_uri": "https://localhost:8080/"
        },
        "id": "-ca-7ei7iWJH",
        "outputId": "9f0405ef-4871-4b7f-fc53-d108f9e2e115"
      },
      "execution_count": 4,
      "outputs": [
        {
          "output_type": "stream",
          "name": "stdout",
          "text": [
            "Epochs taken to converge for each activation function:\n",
            "Step: 130 epochs\n",
            "Bipolar: 1000 epochs\n",
            "Sigmoid: 1000 epochs\n",
            "ReLU: 390 epochs\n"
          ]
        }
      ]
    },
    {
      "cell_type": "code",
      "source": [
        "def vary_learning_rate():\n",
        "    rates = np.arange(0.1, 1.1, 0.1)\n",
        "    epochs_needed = []\n",
        "    for rate in rates:\n",
        "        _, _, epochs, _ = train_perceptron_AND(step, lr=rate)\n",
        "        epochs_needed.append(epochs)\n",
        "    return rates, epochs_needed\n",
        "rates, epochs_needed = vary_learning_rate()\n",
        "print(\"Learning Rate vs Epochs to Converge:\")\n",
        "for r, e in zip(rates, epochs_needed):\n",
        "  print(f\"Learning Rate: {r:.1f}, Epochs: {e}\")\n"
      ],
      "metadata": {
        "colab": {
          "base_uri": "https://localhost:8080/"
        },
        "id": "ChQwllIfiY_6",
        "outputId": "9cee81d0-05d9-48c4-9ce6-5c737191e393"
      },
      "execution_count": 5,
      "outputs": [
        {
          "output_type": "stream",
          "name": "stdout",
          "text": [
            "Learning Rate vs Epochs to Converge:\n",
            "Learning Rate: 0.1, Epochs: 68\n",
            "Learning Rate: 0.2, Epochs: 37\n",
            "Learning Rate: 0.3, Epochs: 23\n",
            "Learning Rate: 0.4, Epochs: 23\n",
            "Learning Rate: 0.5, Epochs: 19\n",
            "Learning Rate: 0.6, Epochs: 19\n",
            "Learning Rate: 0.7, Epochs: 15\n",
            "Learning Rate: 0.8, Epochs: 14\n",
            "Learning Rate: 0.9, Epochs: 13\n",
            "Learning Rate: 1.0, Epochs: 12\n"
          ]
        }
      ]
    },
    {
      "cell_type": "code",
      "source": [
        "def train_perceptron_XOR(activation_fn, epochs=1000, lr=0.05, tolerance=0.002):\n",
        "    X = np.array([[0, 0], [0, 1], [1, 0], [1, 1]])\n",
        "    y = np.array([0, 1, 1, 0])\n",
        "    weights = np.array([0.2, -0.75])\n",
        "    bias = 10\n",
        "    epoch_errors = []\n",
        "\n",
        "    for epoch in range(epochs):\n",
        "        total_error = 0\n",
        "        for xi, target in zip(X, y):\n",
        "            linear_output = summation(xi, weights, bias)\n",
        "            pred = activation_fn(linear_output)\n",
        "            error = target - pred\n",
        "            weights += lr * error * xi\n",
        "            bias += lr * error\n",
        "            total_error += error**2\n",
        "        epoch_errors.append(total_error)\n",
        "        if total_error <= tolerance:\n",
        "            break\n",
        "    return weights, bias, epoch + 1, epoch_errors\n",
        "\n",
        "weights, bias, epochs, errors = train_perceptron_XOR(step)\n",
        "print(\"Final Weights:\", weights)\n",
        "print(\"Final Bias:\", bias)\n",
        "print(\"Epochs for convergence:\", epochs)\n",
        "print(\"Final Error:\", errors[-1])\n"
      ],
      "metadata": {
        "colab": {
          "base_uri": "https://localhost:8080/"
        },
        "id": "II3mMT1OibrD",
        "outputId": "3135839d-137c-4fc3-a5e2-c57d6b52d4d4"
      },
      "execution_count": 6,
      "outputs": [
        {
          "output_type": "stream",
          "name": "stdout",
          "text": [
            "Final Weights: [-0.1 -0.1]\n",
            "Final Bias: 0.09999999999999236\n",
            "Epochs for convergence: 1000\n",
            "Final Error: 4\n"
          ]
        }
      ]
    },
    {
      "cell_type": "code",
      "source": [
        "def train_customer_perceptron(activation_fn, lr=0.05, epochs=1000, tolerance=0.002):\n",
        "    # Customer dataset\n",
        "    X = np.array([\n",
        "        [20, 6, 2, 386], [16, 3, 6, 289], [27, 6, 2, 393], [19, 1, 2, 110], [24, 4, 2, 280],\n",
        "        [22, 1, 5, 167], [15, 4, 2, 271], [18, 4, 2, 274], [21, 1, 4, 148], [16, 2, 4, 198]\n",
        "    ])\n",
        "    y = np.array([1, 1, 1, 0, 1, 0, 1, 1, 0, 0])\n",
        "    weights = np.random.rand(X.shape[1])\n",
        "    bias = 0.5\n",
        "    errors = []\n",
        "\n",
        "    for epoch in range(epochs):\n",
        "        total_error = 0\n",
        "        for xi, target in zip(X, y):\n",
        "            z = summation(xi, weights, bias)\n",
        "            pred = activation_fn(z)\n",
        "            error = target - pred\n",
        "            weights += lr * error * xi\n",
        "            bias += lr * error\n",
        "            total_error += error**2\n",
        "        errors.append(total_error)\n",
        "        if total_error <= tolerance:\n",
        "            break\n",
        "    return weights, bias, epoch + 1, errors\n",
        "\n",
        "weights, bias, epochs, errors = train_customer_perceptron(sigmoid)\n",
        "print(\"Final Weights:\", weights)\n",
        "print(\"Final Bias:\", bias)\n",
        "print(\"Epochs to converge:\", epochs)\n",
        "print(\"Final Error:\", errors[-1])\n"
      ],
      "metadata": {
        "colab": {
          "base_uri": "https://localhost:8080/"
        },
        "id": "Lx2TcJ9mievV",
        "outputId": "de81a267-ae08-45fc-d2fa-e6d50863e6a4"
      },
      "execution_count": 7,
      "outputs": [
        {
          "output_type": "stream",
          "name": "stdout",
          "text": [
            "Final Weights: [-259.9453995    37.63199847  -97.43025518   22.6092146 ]\n",
            "Final Bias: -16.532881008322274\n",
            "Epochs to converge: 432\n",
            "Final Error: 1.9210643306326254e-12\n"
          ]
        },
        {
          "output_type": "stream",
          "name": "stderr",
          "text": [
            "<ipython-input-2-a05ef54dcc10>:12: RuntimeWarning: overflow encountered in exp\n",
            "  def sigmoid(x): return 1 / (1 + np.exp(-x))\n"
          ]
        }
      ]
    },
    {
      "cell_type": "code",
      "source": [
        "def pseudo_inverse_solution():\n",
        "    X = np.array([\n",
        "        [20, 6, 2, 386], [16, 3, 6, 289], [27, 6, 2, 393], [19, 1, 2, 110], [24, 4, 2, 280],\n",
        "        [22, 1, 5, 167], [15, 4, 2, 271], [18, 4, 2, 274], [21, 1, 4, 148], [16, 2, 4, 198]\n",
        "    ])\n",
        "    y = np.array([1, 1, 1, 0, 1, 0, 1, 1, 0, 0])\n",
        "    X_pinv = np.linalg.pinv(X)\n",
        "    weights = np.dot(X_pinv, y)\n",
        "    return weights\n",
        "\n",
        "weights = pseudo_inverse_solution()\n",
        "print(\"Weights using pseudo-inverse:\")\n",
        "print(weights)\n"
      ],
      "metadata": {
        "colab": {
          "base_uri": "https://localhost:8080/"
        },
        "id": "3eeV-nwJihlY",
        "outputId": "318f79bb-151e-48dc-db8f-c159c85fcd7f"
      },
      "execution_count": 8,
      "outputs": [
        {
          "output_type": "stream",
          "name": "stdout",
          "text": [
            "Weights using pseudo-inverse:\n",
            "[-0.02423666  0.01257911 -0.03683543  0.00457696]\n"
          ]
        }
      ]
    },
    {
      "cell_type": "code",
      "source": [
        "def backprop_and_gate(epochs=1000, lr=0.05, tolerance=0.002):\n",
        "    X = np.array([[0,0], [0,1], [1,0], [1,1]])\n",
        "    y = np.array([[0], [0], [0], [1]])\n",
        "    np.random.seed(1)\n",
        "    w1 = np.random.rand(2, 2)\n",
        "    w2 = np.random.rand(2, 1)\n",
        "    errors = []\n",
        "\n",
        "    for epoch in range(epochs):\n",
        "        # Forward\n",
        "        z1 = np.dot(X, w1)\n",
        "        a1 = sigmoid(z1)\n",
        "        z2 = np.dot(a1, w2)\n",
        "        a2 = sigmoid(z2)\n",
        "        # Error\n",
        "        error = y - a2\n",
        "        mse = np.mean(np.square(error))\n",
        "        errors.append(mse)\n",
        "        if mse <= tolerance:\n",
        "            break\n",
        "        # Backward\n",
        "        d2 = error * a2 * (1 - a2)\n",
        "        d1 = np.dot(d2, w2.T) * a1 * (1 - a1)\n",
        "        w2 += lr * np.dot(a1.T, d2)\n",
        "        w1 += lr * np.dot(X.T, d1)\n",
        "    return w1, w2, epoch + 1, errors\n",
        "w1, w2, epochs, errors = backprop_and_gate()\n",
        "print(\"Epochs to converge:\", epochs)\n",
        "print(\"Final MSE:\", errors[-1])\n"
      ],
      "metadata": {
        "colab": {
          "base_uri": "https://localhost:8080/"
        },
        "id": "4JNKC3EWikTT",
        "outputId": "3dab0517-4ed2-4416-b7d5-08ad300dd339"
      },
      "execution_count": 9,
      "outputs": [
        {
          "output_type": "stream",
          "name": "stdout",
          "text": [
            "Epochs to converge: 1000\n",
            "Final MSE: 0.16606806121354667\n"
          ]
        }
      ]
    },
    {
      "cell_type": "code",
      "source": [
        "from sklearn.neural_network import MLPClassifier\n",
        "\n",
        "def mlp_logic_gate(gate_type='AND'):\n",
        "    X = np.array([[0,0], [0,1], [1,0], [1,1]])\n",
        "    y = np.array([0, 0, 0, 1]) if gate_type == 'AND' else np.array([0, 1, 1, 0])\n",
        "    model = MLPClassifier(hidden_layer_sizes=(2,), max_iter=1000, activation='logistic')\n",
        "    model.fit(X, y)\n",
        "    return model.predict(X)\n",
        "and_pred = mlp_logic_gate('AND')\n",
        "xor_pred = mlp_logic_gate('XOR')\n",
        "print(\"MLPClassifier AND Gate Predictions:\", and_pred)\n",
        "print(\"MLPClassifier XOR Gate Predictions:\", xor_pred)\n"
      ],
      "metadata": {
        "colab": {
          "base_uri": "https://localhost:8080/"
        },
        "id": "hVQiFG23im0y",
        "outputId": "f1f4bcae-da43-4670-8aa4-1ce3c2d1366a"
      },
      "execution_count": 10,
      "outputs": [
        {
          "output_type": "stream",
          "name": "stdout",
          "text": [
            "MLPClassifier AND Gate Predictions: [0 0 0 0]\n",
            "MLPClassifier XOR Gate Predictions: [1 1 1 1]\n"
          ]
        },
        {
          "output_type": "stream",
          "name": "stderr",
          "text": [
            "/usr/local/lib/python3.11/dist-packages/sklearn/neural_network/_multilayer_perceptron.py:691: ConvergenceWarning: Stochastic Optimizer: Maximum iterations (1000) reached and the optimization hasn't converged yet.\n",
            "  warnings.warn(\n"
          ]
        }
      ]
    },
    {
      "cell_type": "code",
      "source": [
        "import pandas as pd\n",
        "from sklearn.model_selection import train_test_split\n",
        "from sklearn.feature_extraction.text import TfidfVectorizer\n",
        "from sklearn.neural_network import MLPClassifier\n",
        "from sklearn.metrics import accuracy_score\n",
        "from google.colab import drive\n",
        "\n",
        "# Mount Google Drive\n",
        "drive.mount('/content/drive')\n",
        "\n",
        "# Load dataset\n",
        "file_path = '/content/drive/MyDrive/fake_and_real_news.csv'\n",
        "df = pd.read_csv(file_path)\n",
        "\n",
        "# Show columns to debug if needed\n",
        "print(\"Columns in dataset:\", df.columns)\n",
        "\n",
        "# Assuming 'text' is the article and 'label' is the target (you can change this based on your dataset)\n",
        "# Check and modify if necessary\n",
        "text_column = 'Text'     # or 'content', depending on your dataset\n",
        "target_column = 'label'  # or 'target', or 'class'\n",
        "\n",
        "# Drop rows with missing values in essential columns\n",
        "df = df[[text_column, target_column]].dropna()\n",
        "\n",
        "# Features and Labels\n",
        "X = df[text_column]\n",
        "y = df[target_column]\n",
        "\n",
        "# Split the data\n",
        "X_train, X_test, y_train, y_test = train_test_split(X, y, test_size=0.2, random_state=42)\n",
        "\n",
        "# TF-IDF Vectorization\n",
        "vectorizer = TfidfVectorizer(stop_words='english', max_df=0.7)\n",
        "X_train_tfidf = vectorizer.fit_transform(X_train)\n",
        "X_test_tfidf = vectorizer.transform(X_test)\n",
        "\n",
        "# MLP Classifier\n",
        "model = MLPClassifier(hidden_layer_sizes=(10, 5), max_iter=1000, random_state=42)\n",
        "model.fit(X_train_tfidf, y_train)\n",
        "\n",
        "# Predictions and Accuracy\n",
        "y_pred = model.predict(X_test_tfidf)\n",
        "accuracy = accuracy_score(y_test, y_pred)\n",
        "\n",
        "print(\"MLP Accuracy on Fake/Real News Dataset:\", accuracy)\n"
      ],
      "metadata": {
        "colab": {
          "base_uri": "https://localhost:8080/"
        },
        "id": "Vljt2-0tirVF",
        "outputId": "b8e2db62-3934-4ad4-bf88-90f35cac6eee"
      },
      "execution_count": 37,
      "outputs": [
        {
          "output_type": "stream",
          "name": "stdout",
          "text": [
            "Drive already mounted at /content/drive; to attempt to forcibly remount, call drive.mount(\"/content/drive\", force_remount=True).\n",
            "Columns in dataset: Index(['Text', 'label'], dtype='object')\n",
            "MLP Accuracy on Fake/Real News Dataset: 0.9919191919191919\n"
          ]
        }
      ]
    }
  ]
}